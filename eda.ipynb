{
 "cells": [
  {
   "cell_type": "code",
   "execution_count": null,
   "id": "929aa87b",
   "metadata": {},
   "outputs": [
    {
     "data": {
      "text/plain": [
       "'3.5.1'"
      ]
     },
     "execution_count": 1,
     "metadata": {},
     "output_type": "execute_result"
    }
   ],
   "source": [
    "import pyspark\n",
    "pyspark.__version__"
   ]
  },
  {
   "cell_type": "code",
   "execution_count": 2,
   "id": "9d8e347e",
   "metadata": {},
   "outputs": [
    {
     "name": "stderr",
     "output_type": "stream",
     "text": [
      "25/09/27 13:15:06 WARN Utils: Your hostname, Pongsakorns-MacBook-Air.local resolves to a loopback address: 127.0.0.1; using 192.168.1.34 instead (on interface en0)\n",
      "25/09/27 13:15:06 WARN Utils: Set SPARK_LOCAL_IP if you need to bind to another address\n",
      "Setting default log level to \"WARN\".\n",
      "To adjust logging level use sc.setLogLevel(newLevel). For SparkR, use setLogLevel(newLevel).\n",
      "25/09/27 13:15:06 WARN NativeCodeLoader: Unable to load native-hadoop library for your platform... using builtin-java classes where applicable\n"
     ]
    }
   ],
   "source": [
    "from pyspark.sql import SparkSession\n",
    "spark = SparkSession.builder.appName('EDA').getOrCreate()"
   ]
  },
  {
   "cell_type": "code",
   "execution_count": 3,
   "id": "6ace8e87",
   "metadata": {},
   "outputs": [
    {
     "data": {
      "text/html": [
       "\n",
       "            <div>\n",
       "                <p><b>SparkSession - in-memory</b></p>\n",
       "                \n",
       "        <div>\n",
       "            <p><b>SparkContext</b></p>\n",
       "\n",
       "            <p><a href=\"http://192.168.1.34:4040\">Spark UI</a></p>\n",
       "\n",
       "            <dl>\n",
       "              <dt>Version</dt>\n",
       "                <dd><code>v3.5.1</code></dd>\n",
       "              <dt>Master</dt>\n",
       "                <dd><code>local[*]</code></dd>\n",
       "              <dt>AppName</dt>\n",
       "                <dd><code>EDA</code></dd>\n",
       "            </dl>\n",
       "        </div>\n",
       "        \n",
       "            </div>\n",
       "        "
      ],
      "text/plain": [
       "<pyspark.sql.session.SparkSession at 0x10b8a2ba0>"
      ]
     },
     "execution_count": 3,
     "metadata": {},
     "output_type": "execute_result"
    }
   ],
   "source": [
    "spark"
   ]
  },
  {
   "cell_type": "code",
   "execution_count": 14,
   "id": "35a31b81",
   "metadata": {},
   "outputs": [
    {
     "name": "stdout",
     "output_type": "stream",
     "text": [
      "Type:                <class 'pyspark.sql.dataframe.DataFrame'>\n",
      "Total rows:          421570\n",
      "Columns:             ['Store', 'Dept', 'Date', 'Weekly_Sales', 'IsHoliday']\n"
     ]
    }
   ],
   "source": [
    "df_pyspark = spark.read.csv(\"sales_data_set.csv\", header=True, inferSchema=True)\n",
    "print(f\"{'Type:'.ljust(20)} {type(df_pyspark)}\")\n",
    "print(f\"{'Total rows:'.ljust(20)} {df_pyspark.count()}\")\n",
    "print(f\"{'Columns:'.ljust(20)} {df_pyspark.columns}\")"
   ]
  },
  {
   "cell_type": "code",
   "execution_count": 8,
   "id": "b2397ed2",
   "metadata": {},
   "outputs": [
    {
     "name": "stdout",
     "output_type": "stream",
     "text": [
      "+-----+----+----------+------------+---------+\n",
      "|Store|Dept|      Date|Weekly_Sales|IsHoliday|\n",
      "+-----+----+----------+------------+---------+\n",
      "|    1|   1|05/02/2010|     24924.5|    false|\n",
      "|    1|   1|12/02/2010|    46039.49|     true|\n",
      "|    1|   1|19/02/2010|    41595.55|    false|\n",
      "|    1|   1|26/02/2010|    19403.54|    false|\n",
      "|    1|   1|05/03/2010|     21827.9|    false|\n",
      "+-----+----+----------+------------+---------+\n",
      "only showing top 5 rows\n",
      "\n"
     ]
    }
   ],
   "source": [
    "df_pyspark.show(5)"
   ]
  },
  {
   "cell_type": "code",
   "execution_count": null,
   "id": "92a5d611",
   "metadata": {},
   "outputs": [],
   "source": [
    "df_pyspark.show(5)"
   ]
  }
 ],
 "metadata": {
  "kernelspec": {
   "display_name": ".venv",
   "language": "python",
   "name": "python3"
  },
  "language_info": {
   "codemirror_mode": {
    "name": "ipython",
    "version": 3
   },
   "file_extension": ".py",
   "mimetype": "text/x-python",
   "name": "python",
   "nbconvert_exporter": "python",
   "pygments_lexer": "ipython3",
   "version": "3.13.0"
  }
 },
 "nbformat": 4,
 "nbformat_minor": 5
}
